{
 "cells": [
  {
   "cell_type": "markdown",
   "metadata": {},
   "source": [
    "Importowanie bibliotek i inicjowanie zmiennych globalnych"
   ]
  },
  {
   "cell_type": "code",
   "execution_count": 140,
   "metadata": {},
   "outputs": [],
   "source": [
    "import imageio as iio\n",
    "from pathlib import Path\n",
    "from os import listdir\n",
    "import os\n",
    "import numpy as np\n",
    "from PIL import Image\n",
    "from skimage.io import imread_collection\n",
    "import matplotlib.pyplot as plt\n",
    "from collections import Counter\n",
    "from scipy.stats import entropy\n",
    "import math\n",
    "seq = imread_collection(\"C:\\\\Users\\\\marce\\\\Desktop\\\\trng_walczak_mroz\\\\*.jpg\", conserve_memory=True)\n",
    "counter = 0\n",
    "arrayBound = 0\n",
    "tempArray = []"
   ]
  },
  {
   "cell_type": "markdown",
   "metadata": {},
   "source": [
    "Funkcja do pozyskiwania bitów z obrazu"
   ]
  },
  {
   "cell_type": "code",
   "execution_count": 141,
   "metadata": {},
   "outputs": [],
   "source": [
    "\n",
    "def getBits(testImage,innerCounter):\n",
    "    test = []\n",
    "    for x in range(0,int(testImage.shape[0]/8)):\n",
    "        for y in range(0,int(testImage.shape[1]/8)):\n",
    "            testRgbArray=testImage[x,y]\n",
    "            R = testRgbArray[0]\n",
    "            G = testRgbArray[1]\n",
    "            B = testRgbArray[2]\n",
    "            if(R>1 and R<254):\n",
    "                test.append(R&1)\n",
    "            if(G>1 and G<254):\n",
    "                test.append(G&1)\n",
    "            if(B>1 and B<254):\n",
    "                test.append(B&1)\n",
    "    if(innerCounter%2 != 0):\n",
    "        test.reverse()\n",
    "    innerCounter += 1\n",
    "    return test"
   ]
  },
  {
   "cell_type": "markdown",
   "metadata": {},
   "source": [
    "Pozyskanie bitów i dodanie ich do macierzy kwadratowej"
   ]
  },
  {
   "cell_type": "code",
   "execution_count": 142,
   "metadata": {},
   "outputs": [],
   "source": [
    "for i in seq:\n",
    "    tab = getBits(i,counter)\n",
    "    tempArray+=tab\n",
    "\n",
    "arrayBound = math.floor(np.sqrt(len(tempArray)))\n",
    "finallArray = np.empty((arrayBound,arrayBound))\n",
    "actualElement = 0\n",
    "\n",
    "\n",
    "for i in range(0, arrayBound):\n",
    "    for j in range(0, arrayBound):\n",
    "        finallArray[i][j]=tempArray[actualElement]\n",
    "        actualElement+=1"
   ]
  },
  {
   "cell_type": "markdown",
   "metadata": {},
   "source": [
    "Transpozycja macierzy"
   ]
  },
  {
   "cell_type": "code",
   "execution_count": 143,
   "metadata": {},
   "outputs": [],
   "source": [
    "transposedMatrix =np.transpose(finallArray)"
   ]
  },
  {
   "cell_type": "markdown",
   "metadata": {},
   "source": [
    "Tworzenie histogramu oraz obliczenie entropii"
   ]
  },
  {
   "cell_type": "code",
   "execution_count": 144,
   "metadata": {},
   "outputs": [
    {
     "name": "stdout",
     "output_type": "stream",
     "text": [
      "entropia-> 7.998298696818518\n",
      "liczba wygenerowanych bitow-> 790321\n"
     ]
    },
    {
     "data": {
      "image/png": "[encoded data removed]",
      "text/plain": [
       "<Figure size 432x288 with 1 Axes>"
      ]
     },
     "metadata": {
      "needs_background": "light"
     },
     "output_type": "display_data"
    }
   ],
   "source": [
    "binaryString = \"\"\n",
    "for i in range(0,transposedMatrix.shape[0]):\n",
    "    for j in range(0,transposedMatrix.shape[0]):\n",
    "        binaryString+=str(math.floor(transposedMatrix[i][j]))\n",
    "\n",
    "temp = ''\n",
    "histValues = list()\n",
    "\n",
    "for i in range(0,len(binaryString)-(len(binaryString)%8),8):\n",
    "    for j in range(i,i+8):\n",
    "        temp += binaryString[j]\n",
    "    x = int(temp,2)\n",
    "    histValues.append(x)\n",
    "    temp = ''\n",
    "\n",
    "plt.hist(histValues,bins=256)\n",
    "\n",
    "def numberDict(array):\n",
    "  cnt = Counter()\n",
    "  for number in array:\n",
    "    cnt[number] += 1\n",
    "  return cnt,len(array)  \n",
    "          \n",
    "#calc entropy          \n",
    "def entropy(array):\n",
    "  dict,len = numberDict(array)\n",
    "  entropy = 0\n",
    "  \n",
    "  for number in dict:\n",
    "    entropy += -(dict[number]/len) * math.log2(dict[number]/len)\n",
    "    \n",
    "  return entropy\n",
    "\n",
    "print('entropia->',entropy(histValues))\n",
    "print('liczba wygenerowanych bitow->', len(binaryString))\n",
    "\n"
   ]
  }
 ],
 "metadata": {
  "interpreter": {
   "hash": "1211828d9e45cb2e9676ee7fcf51b096b9371830e415cdb722ec6a668e297338"
  },
  "kernelspec": {
   "display_name": "Python 3.9.5 ('base')",
   "language": "python",
   "name": "python3"
  },
  "language_info": {
   "codemirror_mode": {
    "name": "ipython",
    "version": 3
   },
   "file_extension": ".py",
   "mimetype": "text/x-python",
   "name": "python",
   "nbconvert_exporter": "python",
   "pygments_lexer": "ipython3",
   "version": "3.9.5"
  },
  "orig_nbformat": 4
 },
 "nbformat": 4,
 "nbformat_minor": 2
}
